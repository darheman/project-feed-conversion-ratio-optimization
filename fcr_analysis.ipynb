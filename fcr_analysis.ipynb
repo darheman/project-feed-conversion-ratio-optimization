{
 "cells": [
  {
   "cell_type": "code",
   "execution_count": 4,
   "id": "ccd7ea9f-6fb8-4d7a-934c-e84a52d42e46",
   "metadata": {},
   "outputs": [
    {
     "name": "stdout",
     "output_type": "stream",
     "text": [
      "Bird Performance:\n",
      "   Bird ID  Weight Gain       FCR  Suggested Feed Intake (Grams/Week)\n",
      "0     1001          130  2.923077                          278.571429\n",
      "1     1002          220  2.045455                          471.428571\n",
      "2     1003          120  2.916667                          257.142857\n",
      "3     1004          150  2.800000                          321.428571\n",
      "4     1005          140  2.785714                          300.000000\n",
      "5     1006          200  2.150000                          428.571429\n",
      "6     1007          120  2.666667                          257.142857\n",
      "7     1008          180  2.666667                          385.714286\n",
      "8     1009          140  2.642857                          300.000000\n",
      "9     1010          160  2.562500                          342.857143\n"
     ]
    }
   ],
   "source": [
    "# Import libraries\n",
    "import pandas as pd\n",
    "import numpy as np  # for NaN handling\n",
    "\n",
    "# Specify the filename of your CSV data (replace with your actual filename)\n",
    "data_filename = \"poultry_data.csv\"\n",
    "\n",
    "# Read the data from the CSV file with error handling\n",
    "try:\n",
    "  df = pd.read_csv(data_filename)\n",
    "except FileNotFoundError:\n",
    "  print(f\"Error: File '{data_filename}' not found. Please check the filename and try again.\")\n",
    "  exit()\n",
    "\n",
    "# Function to calculate FCR\n",
    "def calculate_fcr(weight_gain, feed_intake):\n",
    "  if weight_gain > 0:\n",
    "    return feed_intake / weight_gain\n",
    "  else:\n",
    "    return np.nan  # Handle zero weight gain with NaN\n",
    "\n",
    "# Calculate weight gain and FCR\n",
    "df['Weight Gain'] = df['Final Weight (Grams)'] - df['Initial Weight (Grams)']\n",
    "df['FCR'] = df.apply(lambda row: calculate_fcr(row['Weight Gain'], row['Feed Intake (Grams/Week)']), axis=1)\n",
    "\n",
    "# Calculate suggested feed intake (assuming average daily weight gain)\n",
    "average_daily_gain = 15  # Grams per day (replace with relevant data or estimation)\n",
    "df['Suggested Feed Intake (Grams/Week)'] = df['Weight Gain'] * (average_daily_gain / 7)  # Assuming 7 days per week\n",
    "\n",
    "# Print results\n",
    "print(\"Bird Performance:\")\n",
    "print(df[['Bird ID', 'Weight Gain', 'FCR', 'Suggested Feed Intake (Grams/Week)']])\n",
    "\n",
    "# Note: This script suggests feed intake based on average daily gain. \n",
    "# Consider consulting poultry experts for breed-specific recommendations.\n"
   ]
  },
  {
   "cell_type": "code",
   "execution_count": null,
   "id": "a2701234-6c2a-4b50-ab7c-b75746298ec1",
   "metadata": {},
   "outputs": [],
   "source": []
  }
 ],
 "metadata": {
  "kernelspec": {
   "display_name": "Python 3 (ipykernel)",
   "language": "python",
   "name": "python3"
  },
  "language_info": {
   "codemirror_mode": {
    "name": "ipython",
    "version": 3
   },
   "file_extension": ".py",
   "mimetype": "text/x-python",
   "name": "python",
   "nbconvert_exporter": "python",
   "pygments_lexer": "ipython3",
   "version": "3.12.2"
  }
 },
 "nbformat": 4,
 "nbformat_minor": 5
}
